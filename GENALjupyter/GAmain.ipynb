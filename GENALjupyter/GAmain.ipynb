{
 "cells": [
  {
   "cell_type": "code",
   "execution_count": 1,
   "id": "4746c003",
   "metadata": {},
   "outputs": [
    {
     "name": "stdout",
     "output_type": "stream",
     "text": [
      "Requirement already satisfied: ipynb in c:\\anaconda\\lib\\site-packages (0.5.1)\n",
      "Note: you may need to restart the kernel to use updated packages.\n"
     ]
    }
   ],
   "source": [
    "pip install ipynb"
   ]
  },
  {
   "cell_type": "code",
   "execution_count": 10,
   "id": "9a05ad09",
   "metadata": {},
   "outputs": [],
   "source": [
    "import numpy as np\n",
    "import matplotlib\n",
    "from ipynb.fs.full.GAfuncs import InitialGen, MySort, SelCross, Mutation, Elite\n",
    "from numpy.random import default_rng\n",
    "rng = np.random.default_rng()"
   ]
  },
  {
   "cell_type": "code",
   "execution_count": 11,
   "id": "f29328db",
   "metadata": {},
   "outputs": [],
   "source": [
    "def CostFunc(pop):\n",
    "    import numpy as np\n",
    "    x=np.sum([pop.transpose()**2],axis=1) # sphere\n",
    "    x = np.sum([pop.transpose() ** 2], axis=1)  # sphere\n",
    "    return x[0] # output should be array"
   ]
  },
  {
   "cell_type": "code",
   "execution_count": 12,
   "id": "d4de6f77",
   "metadata": {},
   "outputs": [],
   "source": [
    "lb=[0, 0]\n",
    "ub=[1, 1]\n",
    "nvar=len(ub) # number of variables\n",
    "n=50      # number of population\n",
    "MaxIter=1000   # maximum iteration\n",
    "elit=0.05    # elitism\n",
    "mut=0.1      # mutation"
   ]
  },
  {
   "cell_type": "code",
   "execution_count": 4,
   "id": "be73cc6c",
   "metadata": {},
   "outputs": [
    {
     "name": "stdout",
     "output_type": "stream",
     "text": [
      "0.027877169396641692\n",
      "[0.16496978 0.02573212]\n",
      "best value is: 2.085923193888542e-05\n",
      "best solution is: [0.00258887 0.00376258]\n"
     ]
    }
   ],
   "source": [
    "#### This is a minimization problem\n",
    "# initialize\n",
    "pop = InitialGen(n,ub,lb)# new population\n",
    "# fitness function\n",
    "fit = CostFunc(pop)# fitness\n",
    "# sort\n",
    "fit, pop = MySort(fit,pop)\n",
    "bestval=fit[0]\n",
    "bestsol=pop[0]\n",
    "vals=[bestval]\n",
    "print(bestval)\n",
    "print(bestsol)\n",
    "# start of iteration\n",
    "for i in range(0,MaxIter):\n",
    "    offspring = SelCross(fit,pop) # Random Selection and Crossover\n",
    "    offspring=Elite(offspring,pop,elit)# Ellitism\n",
    "    popnew = Mutation (offspring, mut, ub, lb)# Mutation\n",
    "    # Evaluate Fitness\n",
    "    fit = CostFunc(popnew)\n",
    "    fit, pop = MySort(fit,popnew)\n",
    "    if fit[0]<bestval:\n",
    "        bestval=fit[0]\n",
    "        bestsol=pop[0]\n",
    "    vals = np.concatenate((vals, [bestval]))\n",
    "print('best value is:', bestval)\n",
    "print('best solution is:', bestsol)"
   ]
  },
  {
   "cell_type": "code",
   "execution_count": 13,
   "id": "8020e4fc",
   "metadata": {},
   "outputs": [
    {
     "data": {
      "image/png": "[encoded data removed]",
      "text/plain": [
       "<Figure size 432x288 with 1 Axes>"
      ]
     },
     "metadata": {
      "needs_background": "light"
     },
     "output_type": "display_data"
    }
   ],
   "source": [
    "import matplotlib.pyplot as plt\n",
    "plt.plot(vals)\n",
    "plt.ylabel('fitness')\n",
    "plt.xlabel('iteration')\n",
    "plt.title('Convergence')\n",
    "plt.show()"
   ]
  },
  {
   "cell_type": "code",
   "execution_count": null,
   "id": "6d737f7c",
   "metadata": {},
   "outputs": [],
   "source": []
  }
 ],
 "metadata": {
  "kernelspec": {
   "display_name": "Python 3",
   "language": "python",
   "name": "python3"
  },
  "language_info": {
   "codemirror_mode": {
    "name": "ipython",
    "version": 3
   },
   "file_extension": ".py",
   "mimetype": "text/x-python",
   "name": "python",
   "nbconvert_exporter": "python",
   "pygments_lexer": "ipython3",
   "version": "3.8.8"
  }
 },
 "nbformat": 4,
 "nbformat_minor": 5
}
